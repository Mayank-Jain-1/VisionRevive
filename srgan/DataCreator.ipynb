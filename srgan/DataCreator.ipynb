{
 "cells": [
  {
   "cell_type": "code",
   "execution_count": 3,
   "id": "2aa37672",
   "metadata": {},
   "outputs": [],
   "source": [
    "import os\n",
    "import cv2\n",
    "\n",
    "def center_crop(input_image, crop_size=(1200, 900)):\n",
    "    # Get the dimensions of the input image\n",
    "    height, width, _ = input_image.shape\n",
    "\n",
    "    # Calculate the top-left corner coordinates for center cropping\n",
    "    top = max(0, (height - crop_size[1]) // 2)\n",
    "    left = max(0, (width - crop_size[0]) // 2)\n",
    "\n",
    "    # Perform the center crop\n",
    "    cropped_image = input_image[top:top + crop_size[1], left:left + crop_size[0], :]\n",
    "\n",
    "    return cropped_image\n",
    "\n",
    "# Path to the folder containing 2k images\n",
    "input_folder = './Dataset/DIV2K_train_hr'\n",
    "\n",
    "# Output folder for storing cropped images\n",
    "output_folder = './Dataset/DIV2K_cropped'\n",
    "os.makedirs(output_folder, exist_ok=True)\n",
    "\n",
    "# Desired crop size\n",
    "crop_size = (1200, 900)\n",
    "\n",
    "# Loop through each image in the input folder\n",
    "for filename in os.listdir(input_folder):\n",
    "    input_image_path = os.path.join(input_folder, filename)\n",
    "\n",
    "    # Read the input image\n",
    "    input_image = cv2.imread(input_image_path)\n",
    "\n",
    "    # Generate a single center crop\n",
    "    cropped_image = center_crop(input_image, crop_size)\n",
    "\n",
    "    # Save the cropped image\n",
    "    output_filename = f\"{filename.split('.')[0]}_center_crop.png\"\n",
    "    output_path = os.path.join(output_folder, output_filename)\n",
    "    cv2.imwrite(output_path, cropped_image)\n"
   ]
  },
  {
   "cell_type": "code",
   "execution_count": null,
   "id": "2c2e25fb",
   "metadata": {},
   "outputs": [],
   "source": []
  }
 ],
 "metadata": {
  "kernelspec": {
   "display_name": "Python 3 (ipykernel)",
   "language": "python",
   "name": "python3"
  },
  "language_info": {
   "codemirror_mode": {
    "name": "ipython",
    "version": 3
   },
   "file_extension": ".py",
   "mimetype": "text/x-python",
   "name": "python",
   "nbconvert_exporter": "python",
   "pygments_lexer": "ipython3",
   "version": "3.10.9"
  }
 },
 "nbformat": 4,
 "nbformat_minor": 5
}
